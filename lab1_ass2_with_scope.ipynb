{
 "cells": [
  {
   "cell_type": "code",
   "execution_count": 1,
   "metadata": {},
   "outputs": [
    {
     "name": "stdout",
     "output_type": "stream",
     "text": [
      "81\n"
     ]
    }
   ],
   "source": [
    "import tensorflow as tf\n",
    "\n",
    "a=tf.constant(2)\n",
    "b=tf.constant(3)\n",
    "c=tf.constant(4)\n",
    "\n",
    "with tf.name_scope(\"square_a\"):\n",
    "    square_a=tf.square(a)\n",
    "    \n",
    "with tf.name_scope(\"square_b\"):\n",
    "    square_b=tf.square(b)\n",
    "\n",
    "with tf.name_scope(\"square_c\"):\n",
    "    square_c=tf.square(c)\n",
    "\n",
    "with tf.name_scope(\"calu_2ab\"):\n",
    "    temp1=tf.multiply(2,a)\n",
    "    ab_val=tf.multiply(temp1,b)\n",
    "    \n",
    "with tf.name_scope(\"calu_2bc\"):\n",
    "    temp2=tf.multiply(2,b)\n",
    "    bc_val=tf.multiply(temp2,c)\n",
    "    \n",
    "with tf.name_scope(\"calu_2ca\"):\n",
    "    temp3=tf.multiply(2,c)\n",
    "    ca_val=tf.multiply(temp3,a)\n",
    "    \n",
    "with tf.name_scope(\"addition\"):\n",
    "    temp4=tf.add(square_a,square_b)\n",
    "    temp5=tf.add(temp4,square_c)\n",
    "    temp6=tf.add(temp5,ab_val)\n",
    "    temp7=tf.add(temp6,bc_val)\n",
    "    result=tf.add(temp7,ca_val)\n",
    "   \n",
    "    \n",
    "with tf.Session() as sess:\n",
    "    writer = tf.summary.FileWriter(\"/tmp/tboard/scope1\",sess.graph)\n",
    "    print(sess.run(result))\n",
    "    writer.close()"
   ]
  },
  {
   "cell_type": "code",
   "execution_count": null,
   "metadata": {
    "collapsed": true
   },
   "outputs": [],
   "source": []
  }
 ],
 "metadata": {
  "kernelspec": {
   "display_name": "Python 3",
   "language": "python",
   "name": "python3"
  },
  "language_info": {
   "codemirror_mode": {
    "name": "ipython",
    "version": 3
   },
   "file_extension": ".py",
   "mimetype": "text/x-python",
   "name": "python",
   "nbconvert_exporter": "python",
   "pygments_lexer": "ipython3",
   "version": "3.6.1"
  }
 },
 "nbformat": 4,
 "nbformat_minor": 2
}
