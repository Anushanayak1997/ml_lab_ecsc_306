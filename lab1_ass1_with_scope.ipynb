{
 "cells": [
  {
   "cell_type": "code",
   "execution_count": 1,
   "metadata": {},
   "outputs": [
    {
     "name": "stdout",
     "output_type": "stream",
     "text": [
      "25\n"
     ]
    }
   ],
   "source": [
    "import tensorflow as tf\n",
    "\n",
    "a=tf.constant(2)\n",
    "b=tf.constant(3)\n",
    "with tf.name_scope(\"square_b\"):\n",
    "    square_a=tf.square(a)\n",
    "    \n",
    "with tf.name_scope(\"square_b\"):\n",
    "    square_b=tf.square(b)\n",
    "\n",
    "with tf.name_scope(\"calu_2ab\"):\n",
    "    temp1=tf.multiply(2,a)\n",
    "    mult=tf.multiply(temp1,b)\n",
    "    \n",
    "with tf.name_scope(\"addition\"):\n",
    "    temp2=tf.add(square_a,square_b)\n",
    "    result=tf.add(temp2,mult)\n",
    "    \n",
    "with tf.Session() as sess:\n",
    "    writer = tf.summary.FileWriter(\"/tmp/tboard/scope\",sess.graph)\n",
    "    print(sess.run(result))\n",
    "    writer.close()\n",
    "    \n",
    "\n"
   ]
  },
  {
   "cell_type": "code",
   "execution_count": null,
   "metadata": {
    "collapsed": true
   },
   "outputs": [],
   "source": []
  }
 ],
 "metadata": {
  "kernelspec": {
   "display_name": "Python 3",
   "language": "python",
   "name": "python3"
  },
  "language_info": {
   "codemirror_mode": {
    "name": "ipython",
    "version": 3
   },
   "file_extension": ".py",
   "mimetype": "text/x-python",
   "name": "python",
   "nbconvert_exporter": "python",
   "pygments_lexer": "ipython3",
   "version": "3.6.1"
  }
 },
 "nbformat": 4,
 "nbformat_minor": 2
}
