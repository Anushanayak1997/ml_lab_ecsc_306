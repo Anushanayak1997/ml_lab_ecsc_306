{
 "cells": [
  {
   "cell_type": "code",
   "execution_count": 31,
   "metadata": {},
   "outputs": [],
   "source": [
    "import tensorflow as tf\n",
    "\n",
    "#array_x=np.array[12.3,13.4,14.5,15.6,17.7,18.9]\n",
    "#array_y=np.array[4.6,23.7,14.7,23.6,18.6,4.8]\n",
    "\n",
    "a = tf.constant([12.3,13.4,14.5,15.6,17.7,18.9], shape=[1, 6],name='a')\n",
    "b = tf.constant([4.6,23.7,14.7,23.6,18.6,4.8], shape=[1, 6],name='b')\n",
    "\n"
   ]
  },
  {
   "cell_type": "code",
   "execution_count": 32,
   "metadata": {},
   "outputs": [
    {
     "name": "stdout",
     "output_type": "stream",
     "text": [
      "15.4\n",
      "15.0\n"
     ]
    }
   ],
   "source": [
    "with tf.name_scope(\"MyOperationGroup\"):\n",
    "    with tf.name_scope(\"Mean_A\"):\n",
    "        a_mean=tf.reduce_mean(a)\n",
    "        sess=tf.Session()\n",
    "        print(sess.run(a_mean))\n",
    "    \n",
    "    with tf.name_scope(\"Mean_B\"): \n",
    "        b_mean=tf.reduce_mean(b)\n",
    "        sess=tf.Session()\n",
    "        print(sess.run(b_mean))\n"
   ]
  },
  {
   "cell_type": "code",
   "execution_count": 33,
   "metadata": {},
   "outputs": [
    {
     "name": "stdout",
     "output_type": "stream",
     "text": [
      "32.0\n"
     ]
    }
   ],
   "source": [
    "with tf.name_scope(\"Variance\"):\n",
    "    squared = tf.square(a - a_mean)\n",
    "    variance=tf.reduce_sum(squared)\n",
    "\n",
    "    sess=tf.Session()\n",
    "    print(sess.run(summation))"
   ]
  },
  {
   "cell_type": "code",
   "execution_count": 34,
   "metadata": {},
   "outputs": [
    {
     "name": "stdout",
     "output_type": "stream",
     "text": [
      "[[-3.09999847 -1.99999905 -0.89999866  0.20000172  2.3000021   3.50000095]]\n",
      "[[-10.40000153   8.69999981  -0.30000114   8.59999943   3.59999943\n",
      "  -10.20000076]]\n",
      "[[ 32.23999023 -17.39999199   0.27000064   1.72001469   8.28000641\n",
      "  -35.70001221]]\n",
      "-10.59\n"
     ]
    }
   ],
   "source": [
    "\n",
    "temp1=tf.subtract(a,a_mean)\n",
    "sess=tf.Session()\n",
    "print(sess.run(temp1))\n",
    "\n",
    "temp2=tf.subtract(b,b_mean)\n",
    "sess=tf.Session()\n",
    "print(sess.run(temp2))\n",
    "\n",
    "temp3=tf.multiply(temp1,temp2)\n",
    "sess=tf.Session()\n",
    "print(sess.run(temp3))\n",
    "\n",
    "with tf.name_scope(\"Co-variance\"):\n",
    "    covariance=tf.reduce_sum(temp3)\n",
    "    sess=tf.Session()\n",
    "    print(sess.run(covariance))"
   ]
  },
  {
   "cell_type": "code",
   "execution_count": 35,
   "metadata": {},
   "outputs": [
    {
     "name": "stdout",
     "output_type": "stream",
     "text": [
      "-0.330937\n",
      "20.0964\n"
     ]
    }
   ],
   "source": [
    "with tf.name_scope(\"m-value\"):\n",
    "    m=tf.div(covariance,variance)\n",
    "    sess=tf.Session()\n",
    "    print(sess.run(m))\n",
    "\n",
    "with tf.name_scope(\"c-value\"):\n",
    "    temp4=tf.multiply(m,a_mean)\n",
    "    c=tf.subtract(b_mean,temp4)\n",
    "    sess=tf.Session()\n",
    "    print(sess.run(c))"
   ]
  },
  {
   "cell_type": "code",
   "execution_count": 36,
   "metadata": {},
   "outputs": [
    {
     "name": "stdout",
     "output_type": "stream",
     "text": [
      "20.0964\n"
     ]
    }
   ],
   "source": [
    "with tf.Session() as sess:\n",
    "    writer = tf.summary.FileWriter(\"/tmp/tboard/output\", sess.graph)\n",
    "    print(sess.run(c))\n",
    "    writer.close()\n",
    "    "
   ]
  },
  {
   "cell_type": "code",
   "execution_count": null,
   "metadata": {
    "collapsed": true
   },
   "outputs": [],
   "source": []
  },
  {
   "cell_type": "code",
   "execution_count": null,
   "metadata": {
    "collapsed": true
   },
   "outputs": [],
   "source": []
  }
 ],
 "metadata": {
  "kernelspec": {
   "display_name": "Python 3",
   "language": "python",
   "name": "python3"
  },
  "language_info": {
   "codemirror_mode": {
    "name": "ipython",
    "version": 3
   },
   "file_extension": ".py",
   "mimetype": "text/x-python",
   "name": "python",
   "nbconvert_exporter": "python",
   "pygments_lexer": "ipython3",
   "version": "3.6.1"
  }
 },
 "nbformat": 4,
 "nbformat_minor": 2
}
